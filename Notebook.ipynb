{
 "cells": [
  {
   "cell_type": "code",
   "execution_count": 4,
   "id": "eb965ffa",
   "metadata": {},
   "outputs": [
    {
     "data": {
      "text/plain": [
       "'/home/hts/.miniconda/envs/min_ds_clone-env/bin/python'"
      ]
     },
     "execution_count": 4,
     "metadata": {},
     "output_type": "execute_result"
    }
   ],
   "source": [
    "import sys\n",
    "sys.executable"
   ]
  },
  {
   "cell_type": "markdown",
   "id": "4cb7e675",
   "metadata": {},
   "source": [
    "# Thông tin: \n",
    "\n",
    "## Nhóm 11: \n",
    "\n",
    "| MSSV     | Họ tên         | Github                                        |\n",
    "|----------|----------------|-----------------------------------------------|\n",
    "| 19127535 | Trần Kiến Quốc | [grevyarlesp](https://github.com/grevyarlesp) |\n",
    "| 19127637 | Nguyễn Khắc Vỹ | [Khacvy1707](https://github.com/Khacvy1707)   |\n",
    "\n",
    "## Các thư viện hỗ trợ"
   ]
  },
  {
   "cell_type": "code",
   "execution_count": 2,
   "id": "c3c8c417",
   "metadata": {},
   "outputs": [],
   "source": [
    "import pandas as pd"
   ]
  },
  {
   "cell_type": "markdown",
   "id": "ff65b0fe",
   "metadata": {},
   "source": [
    "## Collecting Data\n",
    "\n",
    "1. What subject is your data about? What is the source of your data?\n",
    "\n",
    "Là tập dữ liệu chứa các câu trả lời của StackOverflow trong developer survey, cho 80000 người.  \n",
    "\n",
    "2. Do authors of this data allow you to use like this? You can check the data license\n",
    "\n",
    "https://stackoverflow.blog/2021/08/30/the-full-data-set-for-the-2021-developer-survey-now-available/\n",
    "\n",
    "> Note you are free to share, adapt, and create derivative works from the public 2021 Stack Overflow Developer Survey results as long as you attribute them to Stack Overflow, keep the database open (if you redistribute it), and continue to share-alike any adapted database under the ODbL.\n",
    "\n",
    "3.  How did authors collect data?\n",
    "\n",
    "Dữ liệu được thu thập bằng cách thực hiện khảo sát"
   ]
  },
  {
   "cell_type": "markdown",
   "id": "90f72221",
   "metadata": {},
   "source": [
    "## Exploring Data"
   ]
  },
  {
   "cell_type": "markdown",
   "id": "0517f1a0",
   "metadata": {},
   "source": [
    "1. How many rows and columns?"
   ]
  },
  {
   "cell_type": "markdown",
   "id": "85da8ad9",
   "metadata": {},
   "source": [
    "2. What is the meaning of each row?"
   ]
  },
  {
   "cell_type": "markdown",
   "id": "c75a818c",
   "metadata": {},
   "source": [
    "3. Are there duplicated rows?\n"
   ]
  },
  {
   "cell_type": "markdown",
   "id": "8f34a04d",
   "metadata": {},
   "source": [
    "4. What is the meaning of each column?"
   ]
  },
  {
   "cell_type": "markdown",
   "id": "9cc3c5c1",
   "metadata": {},
   "source": [
    "5. What is the current data type of each column? Are there columns having inappropriate data types?"
   ]
  },
  {
   "cell_type": "markdown",
   "id": "43a3888b",
   "metadata": {},
   "source": [
    "6.  With each numerical column, how are values distributed?\n",
    "\n",
    "-  What is the percentage of missing values?\n",
    "-  Min? max? Are they abnormal?"
   ]
  },
  {
   "cell_type": "markdown",
   "id": "42ec2df2",
   "metadata": {},
   "source": [
    "7. With each categorical column, how are values distributed?\n",
    "\n",
    "- What is the percentage of missing values?\n",
    "- How many different values? Show a few. Are they abnormal?"
   ]
  },
  {
   "cell_type": "markdown",
   "id": "f392bafe",
   "metadata": {},
   "source": [
    "## Ask meaningful questions"
   ]
  },
  {
   "cell_type": "markdown",
   "id": "22d63ffc",
   "metadata": {},
   "source": [
    "## Preprocessing data to answer the questions"
   ]
  },
  {
   "cell_type": "markdown",
   "id": "7f1f9766",
   "metadata": {},
   "source": [
    "## Reflection"
   ]
  },
  {
   "cell_type": "markdown",
   "id": "7ffba9a8",
   "metadata": {},
   "source": [
    "## References"
   ]
  },
  {
   "cell_type": "markdown",
   "id": "1be49135",
   "metadata": {},
   "source": [
    "\n"
   ]
  }
 ],
 "metadata": {
  "jupytext": {
   "formats": "ipynb,auto:percent"
  },
  "kernelspec": {
   "display_name": "Python 3 (ipykernel)",
   "language": "python",
   "name": "python3"
  },
  "language_info": {
   "codemirror_mode": {
    "name": "ipython",
    "version": 3
   },
   "file_extension": ".py",
   "mimetype": "text/x-python",
   "name": "python",
   "nbconvert_exporter": "python",
   "pygments_lexer": "ipython3",
   "version": "3.8.8"
  }
 },
 "nbformat": 4,
 "nbformat_minor": 5
}
