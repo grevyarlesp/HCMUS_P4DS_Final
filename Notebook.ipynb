{
 "cells": [
  {
   "cell_type": "code",
   "execution_count": 4,
   "id": "d7792e77",
   "metadata": {},
   "outputs": [
    {
     "data": {
      "text/plain": [
       "'/home/hts/.miniconda/envs/min_ds_clone-env/bin/python'"
      ]
     },
     "execution_count": 4,
     "metadata": {},
     "output_type": "execute_result"
    }
   ],
   "source": [
    "import sys\n",
    "sys.executable"
   ]
  },
  {
   "cell_type": "markdown",
   "id": "69def2ab",
   "metadata": {},
   "source": [
    "# Thông tin: \n",
    "\n",
    "## Nhóm 11: \n",
    "\n",
    "| MSSV     | Họ tên         | Github                                        |\n",
    "|----------|----------------|-----------------------------------------------|\n",
    "| 19127535 | Trần Kiến Quốc | [grevyarlesp](https://github.com/grevyarlesp) |\n",
    "| 19127637 | Nguyễn Khắc Vỹ | [Khacvy1707](https://github.com/Khacvy1707)   |\n",
    "\n",
    "## Các thư viện hỗ trợ"
   ]
  },
  {
   "cell_type": "code",
   "execution_count": 14,
   "id": "c3c8c417",
   "metadata": {},
   "outputs": [],
   "source": [
    "import pandas as pd\n",
    "import os\n",
    "import numpy as np"
   ]
  },
  {
   "cell_type": "markdown",
   "id": "117ea1b5",
   "metadata": {},
   "source": [
    "## Collecting Data\n",
    "\n",
    "1. What subject is your data about? What is the source of your data?\n",
    "\n",
    "Là tập dữ liệu chứa các câu trả lời của StackOverflow trong developer survey, cho 80000 người.  \n",
    "\n",
    "2. Do authors of this data allow you to use like this? You can check the data license\n",
    "\n",
    "https://stackoverflow.blog/2021/08/30/the-full-data-set-for-the-2021-developer-survey-now-available/\n",
    "\n",
    "> Note you are free to share, adapt, and create derivative works from the public 2021 Stack Overflow Developer Survey results as long as you attribute them to Stack Overflow, keep the database open (if you redistribute it), and continue to share-alike any adapted database under the ODbL.\n",
    "\n",
    "3.  How did authors collect data?\n",
    "\n",
    "Dữ liệu được thu thập bằng cách thực hiện khảo sát"
   ]
  },
  {
   "cell_type": "markdown",
   "id": "7b427f85",
   "metadata": {},
   "source": [
    "## Exploring Data"
   ]
  },
  {
   "cell_type": "markdown",
   "id": "8e2d9ec7",
   "metadata": {},
   "source": [
    "Checking the data folder"
   ]
  },
  {
   "cell_type": "code",
   "execution_count": 12,
   "id": "d6d273da",
   "metadata": {},
   "outputs": [
    {
     "data": {
      "text/plain": [
       "['survey_results_public.csv', 'survey_results_schema.csv']"
      ]
     },
     "execution_count": 12,
     "metadata": {},
     "output_type": "execute_result"
    }
   ],
   "source": [
    "DATA_DIR = './data/stack-overflow-developer-survey-2021/'\n",
    "files = !ls $DATA_DIR \n",
    "files = [file for file in files if '.csv' in file]\n",
    "files"
   ]
  },
  {
   "cell_type": "markdown",
   "id": "3ba80255",
   "metadata": {},
   "source": [
    "Reading data"
   ]
  },
  {
   "cell_type": "code",
   "execution_count": 19,
   "id": "0399b524",
   "metadata": {},
   "outputs": [],
   "source": [
    "df1 = pd.read_csv(os.path.join(DATA_DIR, files[0]))"
   ]
  },
  {
   "cell_type": "markdown",
   "id": "128d45fa",
   "metadata": {},
   "source": [
    "1. How many rows and columns?"
   ]
  },
  {
   "cell_type": "code",
   "execution_count": null,
   "id": "f2b60aa6",
   "metadata": {},
   "outputs": [],
   "source": [
    "num_rows, num_cols = df1.shape\n",
    "num_rows, num_cols"
   ]
  },
  {
   "cell_type": "markdown",
   "id": "841df46a",
   "metadata": {},
   "source": [
    "2. What is the meaning of each row?"
   ]
  },
  {
   "cell_type": "code",
   "execution_count": null,
   "id": "6c19cedb",
   "metadata": {},
   "outputs": [],
   "source": []
  },
  {
   "cell_type": "code",
   "execution_count": null,
   "id": "1f893b6c",
   "metadata": {},
   "outputs": [],
   "source": []
  },
  {
   "cell_type": "markdown",
   "id": "3ddaa037",
   "metadata": {},
   "source": [
    "3. Are there duplicated rows?\n"
   ]
  },
  {
   "cell_type": "markdown",
   "id": "7374457f",
   "metadata": {},
   "source": [
    "4. What is the meaning of each column?"
   ]
  },
  {
   "cell_type": "markdown",
   "id": "22fe6ef4",
   "metadata": {},
   "source": [
    "5. What is the current data type of each column? Are there columns having inappropriate data types?"
   ]
  },
  {
   "cell_type": "markdown",
   "id": "b8be2d39",
   "metadata": {},
   "source": [
    "6.  With each numerical column, how are values distributed?\n",
    "\n",
    "-  What is the percentage of missing values?\n",
    "-  Min? max? Are they abnormal?"
   ]
  },
  {
   "cell_type": "markdown",
   "id": "a6de46f0",
   "metadata": {},
   "source": [
    "7. With each categorical column, how are values distributed?\n",
    "\n",
    "- What is the percentage of missing values?\n",
    "- How many different values? Show a few. Are they abnormal?"
   ]
  },
  {
   "cell_type": "markdown",
   "id": "1aa2a8e7",
   "metadata": {},
   "source": [
    "## Ask meaningful questions"
   ]
  },
  {
   "cell_type": "markdown",
   "id": "a4539303",
   "metadata": {},
   "source": [
    "## Preprocessing data to answer the questions"
   ]
  },
  {
   "cell_type": "markdown",
   "id": "b309bf4e",
   "metadata": {},
   "source": [
    "## Reflection"
   ]
  },
  {
   "cell_type": "markdown",
   "id": "16049c09",
   "metadata": {},
   "source": [
    "## References"
   ]
  },
  {
   "cell_type": "markdown",
   "id": "6a8ec063",
   "metadata": {},
   "source": [
    "\n"
   ]
  }
 ],
 "metadata": {
  "jupytext": {
   "formats": "ipynb,auto:percent"
  },
  "kernelspec": {
   "display_name": "Python 3 (ipykernel)",
   "language": "python",
   "name": "python3"
  },
  "language_info": {
   "codemirror_mode": {
    "name": "ipython",
    "version": 3
   },
   "file_extension": ".py",
   "mimetype": "text/x-python",
   "name": "python",
   "nbconvert_exporter": "python",
   "pygments_lexer": "ipython3",
   "version": "3.8.8"
  }
 },
 "nbformat": 4,
 "nbformat_minor": 5
}
